{
 "cells": [
  {
   "cell_type": "code",
   "execution_count": 1,
   "metadata": {},
   "outputs": [],
   "source": [
    "\n",
    "import numpy as np\n",
    "#port matplotlib.pyplot as plt"
   ]
  },
  {
   "cell_type": "code",
   "execution_count": 2,
   "metadata": {},
   "outputs": [],
   "source": [
    "from matplotlib import pyplot"
   ]
  },
  {
   "cell_type": "code",
   "execution_count": 3,
   "metadata": {},
   "outputs": [
    {
     "data": {
      "text/plain": [
       "[<matplotlib.lines.Line2D at 0xe5eb3930>]"
      ]
     },
     "execution_count": 3,
     "metadata": {},
     "output_type": "execute_result"
    },
    {
     "data": {
      "image/png": "[encoded data removed]",
      "text/plain": [
       "<Figure size 432x288 with 1 Axes>"
      ]
     },
     "metadata": {
      "needs_background": "light"
     },
     "output_type": "display_data"
    }
   ],
   "source": [
    "x=0\n",
    "for n in range(60):\n",
    "    x+=2**(-n)*np.sin(2**n*np.linspace(0,1,1000)*2*np.pi)\n",
    "pyplot.plot(x)"
   ]
  },
  {
   "cell_type": "code",
   "execution_count": 4,
   "metadata": {},
   "outputs": [],
   "source": [
    "\n",
    "\n",
    "def relu(x):\n",
    "    return np.maximum(x,0)\n",
    "\n",
    "def Drelu(x):\n",
    "    return np.sign(x)"
   ]
  },
  {
   "cell_type": "code",
   "execution_count": 5,
   "metadata": {},
   "outputs": [],
   "source": [
    "def forward_pass(x,g):\n",
    "    h=[x]\n",
    "    for n in range(len(g)):\n",
    "        h.append(np.matmul(g[n],h[-1]))\n",
    "        h.append(relu(h[-1]))\n",
    "    return h\n",
    "                 \n",
    "def backward_pass(h,l,g):\n",
    "    u=[]\n",
    "    d=[l]\n",
    "    for n in range(len(h)-1):\n",
    "        if n%2==0:\n",
    "            d.append(np.multiply(np.transpose(Drelu(h[-2-n])),d[-1]))\n",
    "        else:\n",
    "            u.append(np.matmul(np.transpose(d[-1]),np.transpose(h[-2-n])))\n",
    "            d.append(np.matmul(d[-1],g[-1-(n-1)//2]))\n",
    "    u.reverse()\n",
    "    return u"
   ]
  },
  {
   "cell_type": "code",
   "execution_count": 47,
   "metadata": {},
   "outputs": [],
   "source": [
    "def initialize(liste):\n",
    "    g=[]\n",
    "    for i in range(len(liste)-1):\n",
    "        g.append(np.random.normal(loc=0,scale=2,size=[liste[i+1],liste[i]]))\n",
    "    return g\n",
    "\n",
    "def update(m,div,learning_rate,lamb=0,method=\"momentum\",mu=0,dm=0):\n",
    "    _m = div[0]\n",
    "    for ix in range(1,len(div)):\n",
    "        _m = [_m[j] + div[ix][j] for j in range(len(_m))]\n",
    "    d_ = [_m[f]/len(div) + lamb*m[f] for f in range(len(m))]\n",
    "    if method==\"basic\":\n",
    "        dm = d_\n",
    "    elif method==\"momentum\":\n",
    "        dm = [mu*d_[f] + (1 - mu)*dm[f] for f in range(len(m))]\n",
    "    for f in range(len(m)):\n",
    "        m[f] = m[f] - learning_rate*dm[f]\n",
    "    return m , dm"
   ]
  },
  {
   "cell_type": "code",
   "execution_count": 65,
   "metadata": {},
   "outputs": [],
   "source": [
    "def get_example(N): \n",
    "    out = []\n",
    "    for i in range(N):\n",
    "        x = np.random.randint(3,size=2)\n",
    "        y = float(bool(x[0])!=bool(x[1]))\n",
    "        out.append([np.reshape(x,[2,1]),np.array(y)])\n",
    "    return out\n"
   ]
  },
  {
   "cell_type": "code",
   "execution_count": 79,
   "metadata": {},
   "outputs": [],
   "source": [
    "numbatches=10\n",
    "gg=initialize([2,5,3,1])\n",
    "_dm=[x*0 for x in gg]\n",
    "loss =[]\n",
    "for iter in range(2000):\n",
    "    ot = get_example(numbatches)\n",
    "    đ=[]\n",
    "    for j in range(numbatches):\n",
    "        h_ = forward_pass(ot[j][0],gg)\n",
    "        l = h_[-1]-ot[j][1]\n",
    "        đ.append(backward_pass(h_,l,gg))\n",
    "    gg , _dm= update(gg,đ,mu=0.0001,learning_rate=0.001,lamb=0.001,dm=_dm,method=\"momentum\")\n",
    "    loss.append(np.abs(l)[0])"
   ]
  },
  {
   "cell_type": "code",
   "execution_count": 80,
   "metadata": {},
   "outputs": [
    {
     "data": {
      "text/plain": [
       "[<matplotlib.lines.Line2D at 0xcc46b190>]"
      ]
     },
     "execution_count": 80,
     "metadata": {},
     "output_type": "execute_result"
    },
    {
     "data": {
      "image/png": "[encoded data removed]",
      "text/plain": [
       "<Figure size 432x288 with 1 Axes>"
      ]
     },
     "metadata": {
      "needs_background": "light"
     },
     "output_type": "display_data"
    }
   ],
   "source": [
    "pyplot.plot(loss)"
   ]
  },
  {
   "cell_type": "code",
   "execution_count": 26,
   "metadata": {},
   "outputs": [
    {
     "data": {
      "text/plain": [
       "array([[0.99999998]])"
      ]
     },
     "execution_count": 26,
     "metadata": {},
     "output_type": "execute_result"
    }
   ],
   "source": [
    "forward_pass(np.reshape(np.array([0,1]),[2,1]),gg)[-1]"
   ]
  },
  {
   "cell_type": "code",
   "execution_count": 27,
   "metadata": {},
   "outputs": [
    {
     "data": {
      "text/plain": [
       "array([[0.]])"
      ]
     },
     "execution_count": 27,
     "metadata": {},
     "output_type": "execute_result"
    }
   ],
   "source": [
    "forward_pass(np.reshape(np.array([1,1]),[2,1]),gg)[-1]"
   ]
  },
  {
   "cell_type": "code",
   "execution_count": 28,
   "metadata": {},
   "outputs": [
    {
     "data": {
      "text/plain": [
       "array([[1.00000645]])"
      ]
     },
     "execution_count": 28,
     "metadata": {},
     "output_type": "execute_result"
    }
   ],
   "source": [
    "forward_pass(np.reshape(np.array([1,0]),[2,1]),gg)[-1]"
   ]
  },
  {
   "cell_type": "code",
   "execution_count": null,
   "metadata": {},
   "outputs": [],
   "source": [
    "h[-1]"
   ]
  },
  {
   "cell_type": "code",
   "execution_count": null,
   "metadata": {},
   "outputs": [],
   "source": []
  }
 ],
 "metadata": {
  "kernelspec": {
   "display_name": "Python 3",
   "language": "python",
   "name": "python3"
  },
  "language_info": {
   "codemirror_mode": {
    "name": "ipython",
    "version": 3
   },
   "file_extension": ".py",
   "mimetype": "text/x-python",
   "name": "python",
   "nbconvert_exporter": "python",
   "pygments_lexer": "ipython3",
   "version": "3.7.1"
  }
 },
 "nbformat": 4,
 "nbformat_minor": 2
}
